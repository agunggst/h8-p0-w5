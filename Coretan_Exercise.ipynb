{
 "cells": [
  {
   "cell_type": "markdown",
   "metadata": {},
   "source": [
    "# Most Frequent Largest Numbers"
   ]
  },
  {
   "cell_type": "code",
   "execution_count": 12,
   "metadata": {},
   "outputs": [],
   "source": [
    "function sorting(arrNumber) {\n",
    "    for(let i=0; i<arrNumber.length; i++){\n",
    "        for(let j=0; j<arrNumber.length-1; j++){\n",
    "            if(arrNumber[j]<arrNumber[j+1]){\n",
    "                var temp = arrNumber[j]\n",
    "                arrNumber[j] = arrNumber[j+1]\n",
    "                arrNumber[j+1] = temp\n",
    "            }\n",
    "        }\n",
    "    }\n",
    "    return arrNumber\n",
    "}\n",
    "\n",
    "function getTotal(arrNumber) {\n",
    "    var count = 0\n",
    "    for(let i=0; i<arrNumber.length; i++){\n",
    "        if(arrNumber[0]==arrNumber[i]){\n",
    "            count++\n",
    "        }\n",
    "    }\n",
    "    if(!arrNumber.length){\n",
    "        return ''\n",
    "    }\n",
    "    return `angka paling besar adalah ${arrNumber[0]} dan jumlah kemunculan sebanyak ${count} kali`\n",
    "}\n",
    "\n",
    "function mostFrequentLargestNumbers(arrNumber) {\n",
    "  var listSort = sorting(arrNumber);\n",
    "  var countHighest = getTotal(listSort);\n",
    "  return countHighest;\n",
    "}"
   ]
  },
  {
   "cell_type": "code",
   "execution_count": 13,
   "metadata": {},
   "outputs": [],
   "source": [
    "var arrNumber = []"
   ]
  },
  {
   "cell_type": "code",
   "execution_count": 14,
   "metadata": {},
   "outputs": [
    {
     "name": "stdout",
     "output_type": "stream",
     "text": [
      "angka paling besar adalah 8 dan jumlah kemunculan sebanyak 3 kali\n",
      "angka paling besar adalah 150 dan jumlah kemunculan sebanyak 1 kali\n",
      "angka paling besar adalah 1 dan jumlah kemunculan sebanyak 4 kali\n",
      "\n"
     ]
    }
   ],
   "source": [
    "console.log(mostFrequentLargestNumbers([2, 8, 4, 6, 8, 5, 8, 4]));\n",
    "//'angka paling besar adalah 8 dan jumlah kemunculan sebanyak 3 kali'\n",
    "\n",
    "console.log(mostFrequentLargestNumbers([122, 122, 130, 100, 135, 100, 135, 150]));\n",
    "//'angka paling besar adalah 150 dan jumlah kemunculan sebanyak 1 kali'\n",
    "\n",
    "console.log(mostFrequentLargestNumbers([1, 1, 1, 1]));\n",
    "//'angka paling besar adalah 1 dan jumlah kemunculan sebanyak 4 kali'\n",
    "\n",
    "console.log(mostFrequentLargestNumbers([]));\n",
    "//''"
   ]
  },
  {
   "cell_type": "code",
   "execution_count": 10,
   "metadata": {},
   "outputs": [
    {
     "data": {
      "text/plain": [
       "true"
      ]
     },
     "execution_count": 10,
     "metadata": {},
     "output_type": "execute_result"
    }
   ],
   "source": [
    "!arrNumber.length"
   ]
  },
  {
   "cell_type": "markdown",
   "metadata": {},
   "source": [
    "__________"
   ]
  },
  {
   "cell_type": "markdown",
   "metadata": {},
   "source": [
    "# Password Generator"
   ]
  },
  {
   "cell_type": "code",
   "execution_count": 15,
   "metadata": {},
   "outputs": [],
   "source": [
    "\n",
    "\n",
    "//     Ganti semua huruf vokal menggunakan function changeVocals dengan aturan huruf vokal yang diganti akan menjadi huruf setelah huruf vokal itu (ex: a -> b, i -> j, u -> v, e -> f, o -> p, A -> B, I -> J, U -> V, E -> F, O -> P)\n",
    "\n",
    "//     Balikkan/reverse kata yang sudah kita ganti huruf vokalnya menggunakan reverseWord\n",
    "\n",
    "//     Gunakan function setLowerUpperCase untuk mengganti huruf besar menjadi kecil dan sebaliknya\n",
    "\n",
    "//     Gunakan function removeSpaces untuk menghilangkan semua spasi di dalam string yang sudah kita manipulasi\n"
   ]
  },
  {
   "cell_type": "code",
   "execution_count": 48,
   "metadata": {},
   "outputs": [],
   "source": [
    "function changeVocals (str) {\n",
    "    function include(char, arr){\n",
    "        for(let i=0; i<arr.length; i++){\n",
    "            if(char==arr[i]){\n",
    "                return true\n",
    "            }\n",
    "        }\n",
    "        return false\n",
    "    }\n",
    "    function find(char,aplhabet_arr){\n",
    "        for(let i=0; i<aplhabet_arr.length; i++){\n",
    "            if(char==aplhabet_arr[i]){\n",
    "                return i\n",
    "            }\n",
    "        }\n",
    "        return -1\n",
    "    }\n",
    "    var vocal = ['a','i','u','e','o']\n",
    "    var alphabet = 'abcdefghijklmnopqrstuvwxyza'\n",
    "    var aplhabet_arr = []\n",
    "    for(let element of alphabet){\n",
    "        aplhabet_arr.push(element)\n",
    "    }\n",
    "    var str_arr = []\n",
    "    for(let i=0; i<str.length; i++){\n",
    "        str_arr.push(str[i])\n",
    "    }\n",
    "    for(let i=0; i<str_arr.length; i++){\n",
    "        if( str[i]==str_arr[i].toUpperCase() && include(str[i].toLowerCase(), vocal) ){\n",
    "            str_arr[i] = aplhabet_arr[find(str[i].toLowerCase(),aplhabet_arr) + 1].toUpperCase()\n",
    "        }else if( str[i]==str_arr[i].toLowerCase() && include(str[i].toLowerCase(), vocal) ){\n",
    "            str_arr[i] = aplhabet_arr[find(str[i],aplhabet_arr) + 1]\n",
    "        }\n",
    "    }\n",
    "    var result = ''\n",
    "    for(let el of str_arr){\n",
    "        result += el\n",
    "    }\n",
    "    return result\n",
    "}\n",
    "\n",
    "function reverseWord (str) {\n",
    "    var result = ''\n",
    "    for(let i=str.length-1; i>=0; i--){\n",
    "        result += str[i]\n",
    "    }\n",
    "    return result\n",
    "}\n",
    "\n",
    "function setLowerUpperCase (str) {\n",
    "    var result_arr = []\n",
    "    for(let i=0; i<str.length; i++){\n",
    "        if(str[i]==str[i].toUpperCase()){\n",
    "            result_arr.push(str[i].toLowerCase())\n",
    "        }else if(str[i]==str[i].toLowerCase()){\n",
    "            result_arr.push(str[i].toUpperCase())\n",
    "        }\n",
    "    }\n",
    "    var result = ''\n",
    "    for(let i=0; i<result_arr.length; i++){\n",
    "        result += result_arr[i]\n",
    "    }\n",
    "    return result\n",
    "}\n",
    "\n",
    "function removeSpaces (str) {\n",
    "    var result_arr = []\n",
    "    var temp = ''\n",
    "    for(let i=0; i<str.length; i++){\n",
    "        if(str[i]==' '){\n",
    "            result_arr.push(temp)\n",
    "            temp = ''\n",
    "        }else{\n",
    "            temp += str[i]\n",
    "        }\n",
    "    }\n",
    "    result_arr.push(temp)\n",
    "    var result = ''\n",
    "    for(let i=0; i<result_arr.length; i++){\n",
    "        result += result_arr[i]\n",
    "    }\n",
    "    return result\n",
    "}\n",
    "\n",
    "function passwordGenerator (name) {\n",
    "    if(name.length<5){\n",
    "        return `Minimal karakter yang diinputkan adalah 5 karakter`\n",
    "    }\n",
    "    return removeSpaces(setLowerUpperCase(reverseWord(changeVocals (name))))\n",
    "}"
   ]
  },
  {
   "cell_type": "code",
   "execution_count": 20,
   "metadata": {},
   "outputs": [
    {
     "data": {
      "text/plain": [
       "27"
      ]
     },
     "execution_count": 20,
     "metadata": {},
     "output_type": "execute_result"
    }
   ],
   "source": [
    "var vocal = ['a','i','u','e','o']\n",
    "var alphabet = 'abcdefghijklmnopqrstuvwxyza'\n",
    "var aplhabet_arr = []\n",
    "for(let element of alphabet){\n",
    "    aplhabet_arr.push(element)\n",
    "}\n",
    "//aplhabet_arr"
   ]
  },
  {
   "cell_type": "code",
   "execution_count": 38,
   "metadata": {},
   "outputs": [
    {
     "data": {
      "text/plain": [
       "'Sfrgfj Drbgvnpv'"
      ]
     },
     "execution_count": 38,
     "metadata": {},
     "output_type": "execute_result"
    }
   ],
   "source": [
    "changeVocals ('Sergei Dragunov')"
   ]
  },
  {
   "cell_type": "code",
   "execution_count": 40,
   "metadata": {},
   "outputs": [
    {
     "data": {
      "text/plain": [
       "'vpnvgbrD jfgrfS'"
      ]
     },
     "execution_count": 40,
     "metadata": {},
     "output_type": "execute_result"
    }
   ],
   "source": [
    "reverseWord(changeVocals ('Sergei Dragunov'))"
   ]
  },
  {
   "cell_type": "code",
   "execution_count": 42,
   "metadata": {},
   "outputs": [
    {
     "data": {
      "text/plain": [
       "'VPNVGBRd JFGRFs'"
      ]
     },
     "execution_count": 42,
     "metadata": {},
     "output_type": "execute_result"
    }
   ],
   "source": [
    "setLowerUpperCase(reverseWord(changeVocals ('Sergei Dragunov')))"
   ]
  },
  {
   "cell_type": "code",
   "execution_count": 44,
   "metadata": {},
   "outputs": [
    {
     "data": {
      "text/plain": [
       "'VPNVGBRdJFGRFs'"
      ]
     },
     "execution_count": 44,
     "metadata": {},
     "output_type": "execute_result"
    }
   ],
   "source": [
    "removeSpaces(setLowerUpperCase(reverseWord(changeVocals ('Sergei Dragunov'))))"
   ]
  },
  {
   "cell_type": "code",
   "execution_count": 36,
   "metadata": {},
   "outputs": [
    {
     "data": {
      "text/plain": [
       "'Sfrgfj Drbgvnpv'"
      ]
     },
     "execution_count": 36,
     "metadata": {},
     "output_type": "execute_result"
    }
   ],
   "source": [
    "var str_arr = []\n",
    "for(let i=0; i<str.length; i++){\n",
    "    str_arr.push(str[i])\n",
    "}\n",
    "for(let i=0; i<str_arr.length; i++){\n",
    "    if( str[i]==str_arr[i].toUpperCase() && include(str[i].toLowerCase(), vocal) ){\n",
    "        str_arr[i] = aplhabet_arr[find(str[i].toLowerCase(),aplhabet_arr) + 1].toUpperCase()\n",
    "    }else if( str[i]==str_arr[i].toLowerCase() && include(str[i].toLowerCase(), vocal) ){\n",
    "        str_arr[i] = aplhabet_arr[find(str[i],aplhabet_arr) + 1]\n",
    "    }\n",
    "}\n",
    "var result = ''\n",
    "for(let el of str_arr){\n",
    "    result += el\n",
    "}\n",
    "result"
   ]
  },
  {
   "cell_type": "code",
   "execution_count": 23,
   "metadata": {},
   "outputs": [],
   "source": [
    "function include(char, arr){\n",
    "    for(let i=0; i<arr.length; i++){\n",
    "        if(char==arr[i]){\n",
    "            return true\n",
    "        }\n",
    "    }\n",
    "    return false\n",
    "}"
   ]
  },
  {
   "cell_type": "code",
   "execution_count": 24,
   "metadata": {},
   "outputs": [],
   "source": [
    "function find(char,aplhabet_arr){\n",
    "    for(let i=0; i<aplhabet_arr.length; i++){\n",
    "        if(char==aplhabet_arr[i]){\n",
    "            return i\n",
    "        }\n",
    "    }\n",
    "    return -1\n",
    "}"
   ]
  },
  {
   "cell_type": "code",
   "execution_count": 49,
   "metadata": {},
   "outputs": [
    {
     "name": "stdout",
     "output_type": "stream",
     "text": [
      "VPNVGBRdJFGRFs\n",
      "BRTVPJDVYHBwJRTJMJd\n",
      "JFXFLb\n",
      "Minimal karakter yang diinputkan adalah 5 karakter\n"
     ]
    }
   ],
   "source": [
    "console.log(passwordGenerator('Sergei Dragunov')); // 'VPNVGBRdJFGRFs'\n",
    "console.log(passwordGenerator('Dimitri Wahyudiputra')); // 'BRTVPJDVYHBwJRTJMJd'\n",
    "console.log(passwordGenerator('Alexei')); // 'JFXFLb'\n",
    "console.log(passwordGenerator('Alex')); // 'Minimal karakter yang diinputkan adalah 5 karakter'"
   ]
  },
  {
   "cell_type": "markdown",
   "metadata": {},
   "source": [
    "_____"
   ]
  },
  {
   "cell_type": "markdown",
   "metadata": {},
   "source": [
    "# Makan Terus (Rekursif)"
   ]
  },
  {
   "cell_type": "code",
   "execution_count": 51,
   "metadata": {},
   "outputs": [],
   "source": [
    "// // TEST CASES\n",
    "// console.log(makanTerusRekursif(66)); // 5\n",
    "// console.log(makanTerusRekursif(100)); // 7\n",
    "// console.log(makanTerusRekursif(90)); // 6\n",
    "// console.log(makanTerusRekursif(10)); // 1\n",
    "// console.log(makanTerusRekursif(0)); // 0"
   ]
  },
  {
   "cell_type": "code",
   "execution_count": 57,
   "metadata": {},
   "outputs": [],
   "source": [
    "function makanTerusRekursif(waktu, count=0) {\n",
    "    if(waktu<=0){\n",
    "        return count\n",
    "    }else{\n",
    "        count++\n",
    "        return makanTerusRekursif(waktu-15, count)\n",
    "    }\n",
    "}"
   ]
  },
  {
   "cell_type": "code",
   "execution_count": 58,
   "metadata": {},
   "outputs": [
    {
     "name": "stdout",
     "output_type": "stream",
     "text": [
      "5\n",
      "7\n",
      "6\n",
      "1\n",
      "0\n"
     ]
    }
   ],
   "source": [
    "console.log(makanTerusRekursif(66)); // 5\n",
    "console.log(makanTerusRekursif(100)); // 7\n",
    "console.log(makanTerusRekursif(90)); // 6\n",
    "console.log(makanTerusRekursif(10)); // 1\n",
    "console.log(makanTerusRekursif(0)); // 0"
   ]
  },
  {
   "cell_type": "markdown",
   "metadata": {},
   "source": [
    "_________--"
   ]
  },
  {
   "cell_type": "markdown",
   "metadata": {},
   "source": [
    "# Total Digit (Rekursif)"
   ]
  },
  {
   "cell_type": "code",
   "execution_count": 59,
   "metadata": {},
   "outputs": [],
   "source": [
    "// 512, berarti outputnya adalah 8, karena 5 + 1 + 2 = 8. \n",
    "// 1542, berarti outputnya adalah 12, karena 1 + 5 + 4 + 2 = 12."
   ]
  },
  {
   "cell_type": "code",
   "execution_count": 19,
   "metadata": {},
   "outputs": [],
   "source": [
    "function totalDigitRekursif(angka, sum=0) {\n",
    "    var arr = []\n",
    "    for(let i=0; i<String(angka).length; i++){\n",
    "        arr.push(String(angka)[i])\n",
    "    }\n",
    "    sum += Number(arr[0])\n",
    "    arr.shift()\n",
    "    var angka = ''\n",
    "    for(let i=0; i<arr.length; i++){\n",
    "        angka += arr[i]\n",
    "    }\n",
    "    \n",
    "    if(angka.length==0){\n",
    "        return sum\n",
    "    }else{\n",
    "        return totalDigitRekursif(Number(angka), sum)\n",
    "    }\n",
    "}"
   ]
  },
  {
   "cell_type": "code",
   "execution_count": 1,
   "metadata": {},
   "outputs": [],
   "source": [
    "var angka =1213"
   ]
  },
  {
   "cell_type": "code",
   "execution_count": 2,
   "metadata": {},
   "outputs": [
    {
     "data": {
      "text/plain": [
       "[ '1', '2', '1', '3' ]"
      ]
     },
     "execution_count": 2,
     "metadata": {},
     "output_type": "execute_result"
    }
   ],
   "source": [
    "var arr = []\n",
    "    for(let i=0; i<String(angka).length; i++){\n",
    "        arr.push(String(angka)[i])\n",
    "    }\n",
    "arr"
   ]
  },
  {
   "cell_type": "code",
   "execution_count": 3,
   "metadata": {},
   "outputs": [
    {
     "data": {
      "text/plain": [
       "'1'"
      ]
     },
     "execution_count": 3,
     "metadata": {},
     "output_type": "execute_result"
    }
   ],
   "source": [
    "arr.shift()"
   ]
  },
  {
   "cell_type": "code",
   "execution_count": 4,
   "metadata": {},
   "outputs": [
    {
     "data": {
      "text/plain": [
       "[ '2', '1', '3' ]"
      ]
     },
     "execution_count": 4,
     "metadata": {},
     "output_type": "execute_result"
    }
   ],
   "source": [
    "arr"
   ]
  },
  {
   "cell_type": "code",
   "execution_count": 5,
   "metadata": {},
   "outputs": [
    {
     "data": {
      "text/plain": [
       "'213'"
      ]
     },
     "execution_count": 5,
     "metadata": {},
     "output_type": "execute_result"
    }
   ],
   "source": [
    "var angka = ''\n",
    "        for(let i=0; i<arr.length; i++){\n",
    "            angka += arr[i]\n",
    "        }"
   ]
  },
  {
   "cell_type": "code",
   "execution_count": 6,
   "metadata": {},
   "outputs": [
    {
     "data": {
      "text/plain": [
       "'213'"
      ]
     },
     "execution_count": 6,
     "metadata": {},
     "output_type": "execute_result"
    }
   ],
   "source": [
    "angka"
   ]
  },
  {
   "cell_type": "code",
   "execution_count": 21,
   "metadata": {},
   "outputs": [
    {
     "name": "stdout",
     "output_type": "stream",
     "text": [
      "8\n",
      "12\n",
      "5\n",
      "3\n",
      "5\n",
      "0\n"
     ]
    }
   ],
   "source": [
    "console.log(totalDigitRekursif(512)); // 8\n",
    "console.log(totalDigitRekursif(1542)); // 12\n",
    "console.log(totalDigitRekursif(5)); // 5\n",
    "console.log(totalDigitRekursif(21)); // 3\n",
    "console.log(totalDigitRekursif(11111)); // 5\n",
    "console.log(totalDigitRekursif(0)); // 0"
   ]
  },
  {
   "cell_type": "markdown",
   "metadata": {},
   "source": [
    "___________"
   ]
  },
  {
   "cell_type": "markdown",
   "metadata": {},
   "source": [
    "# Kali Terus (Rekursif)"
   ]
  },
  {
   "cell_type": "code",
   "execution_count": 22,
   "metadata": {},
   "outputs": [],
   "source": [
    "// 3 => 3, karena sudah satu digit 24 => 8. Karena 24 dua digit, maka kita lakukan 2 * 4 = 8. 8 satu digit, \n",
    "// maka hasilnya adalah 8. 654 => 0. Karena 654 tiga digit, maka lakukan 6 * 5 * 4 = 120. 120 tiga digit, \n",
    "// maka lakukan 1 * 2 * 0 = 0. 0 satu digit, maka hasilnya adalah 0."
   ]
  },
  {
   "cell_type": "code",
   "execution_count": 26,
   "metadata": {},
   "outputs": [],
   "source": [
    "function kaliTerusRekursif(angka) {\n",
    "    var  mul = 1\n",
    "    for(let i=0; i<String(angka).length; i++){\n",
    "        mul *= Number(String(angka)[i])\n",
    "    }\n",
    "    \n",
    "    if(String(mul).length==1){\n",
    "        return mul\n",
    "    }else{\n",
    "        return kaliTerusRekursif(mul)\n",
    "    }\n",
    "}"
   ]
  },
  {
   "cell_type": "code",
   "execution_count": 24,
   "metadata": {},
   "outputs": [],
   "source": [
    "var angka = 66"
   ]
  },
  {
   "cell_type": "code",
   "execution_count": 25,
   "metadata": {},
   "outputs": [
    {
     "data": {
      "text/plain": [
       "36"
      ]
     },
     "execution_count": 25,
     "metadata": {},
     "output_type": "execute_result"
    }
   ],
   "source": [
    "var mul = 1\n",
    "    for(let i=0; i<String(angka).length; i++){\n",
    "        mul *= Number(String(angka)[i])\n",
    "    }"
   ]
  },
  {
   "cell_type": "code",
   "execution_count": 27,
   "metadata": {},
   "outputs": [
    {
     "name": "stdout",
     "output_type": "stream",
     "text": [
      "8\n",
      "3\n",
      "8\n",
      "0\n",
      "6\n"
     ]
    }
   ],
   "source": [
    "console.log(kaliTerusRekursif(66)); // 8\n",
    "console.log(kaliTerusRekursif(3)); // 3\n",
    "console.log(kaliTerusRekursif(24)); // 8\n",
    "console.log(kaliTerusRekursif(654)); // 0\n",
    "console.log(kaliTerusRekursif(1231)); // 6"
   ]
  },
  {
   "cell_type": "markdown",
   "metadata": {},
   "source": [
    "__________"
   ]
  },
  {
   "cell_type": "markdown",
   "metadata": {},
   "source": [
    "# Damage Calculation"
   ]
  },
  {
   "cell_type": "code",
   "execution_count": 28,
   "metadata": {},
   "outputs": [],
   "source": [
    "// Diberikan function attack(), damageCalculation().\n",
    "\n",
    "//     Function damageCalculation() akan menerima 2 parameter yaitu numberOfAttacks dan damagePerAttack\n",
    "//     Function attack() akan menerima 1 parameter yaitu damage\n",
    "\n",
    "// [IMPLEMENTASI] Gunakan function damageCalculation() untuk menghitung damage yang diterima dan gunakan function attack() untuk mensimulasikan setiap attack dengan rumus damage - 2 disetiap attack.\n",
    "\n",
    "// [CONTOH] damageCalculation(3, 10) akan mengembalikan nilai 24\n",
    "\n",
    "// Karena attack akan dikurangi 2, maka setiap attack akan menghasilkan damage 8"
   ]
  },
  {
   "cell_type": "code",
   "execution_count": 30,
   "metadata": {},
   "outputs": [],
   "source": [
    "function attack (damage) {\n",
    "  return damage - 2\n",
    "}\n",
    "\n",
    "function damageCalculation (numberOfAttacks, damagePerAttack) {\n",
    "  return numberOfAttacks * attack(damagePerAttack)\n",
    "}"
   ]
  },
  {
   "cell_type": "code",
   "execution_count": 31,
   "metadata": {},
   "outputs": [
    {
     "name": "stdout",
     "output_type": "stream",
     "text": [
      "207\n",
      "20\n",
      "90\n"
     ]
    }
   ],
   "source": [
    "// TEST CASE\n",
    "console.log(damageCalculation(9, 25)); // 207\n",
    "\n",
    "console.log(damageCalculation(10, 4)); // 20\n",
    "\n",
    "console.log(damageCalculation(5, 20)); // 90"
   ]
  },
  {
   "cell_type": "markdown",
   "metadata": {},
   "source": [
    "______________"
   ]
  },
  {
   "cell_type": "markdown",
   "metadata": {},
   "source": [
    "# Melee Ranged Grouping"
   ]
  },
  {
   "cell_type": "code",
   "execution_count": 32,
   "metadata": {},
   "outputs": [],
   "source": [
    "// Diberikan function meleeRangedGrouping yang menerima 1 parameter berupa string, implementasikan meleeRangedGrouping agar dapat menghasilkan multidimensional array seperti yang diminta.\n",
    "\n",
    "// Format string yang diberikan adalah: <nama_hero>-<tipe_hero>,<nama_hero>-<tipe-hero>, ...\n",
    "\n",
    "// Output yang diharapkan: [ [ <daftar_hero_dengan_tipe_ranged> ], [ <daftar_hero_dengan_tipe_melee> ] ]\n",
    "\n",
    "// Jika input adalah string kosong ('') maka return array kosong"
   ]
  },
  {
   "cell_type": "code",
   "execution_count": 51,
   "metadata": {},
   "outputs": [],
   "source": [
    "function meleeRangedGrouping (str) {\n",
    "    function split(str, divider){\n",
    "        var result = []\n",
    "        var temp = ''\n",
    "        for(let i=0; i<str.length; i++){\n",
    "            if(str[i] == divider){\n",
    "                result.push(temp)\n",
    "                temp = ''\n",
    "            }else{\n",
    "                temp += str[i]\n",
    "            }\n",
    "        }\n",
    "        result.push(temp)\n",
    "        return result\n",
    "    }\n",
    "    if(str.length==0){\n",
    "        return []\n",
    "    }\n",
    "    var step_1 = split(str, ',')\n",
    "    var step_2 = []\n",
    "    for(let i=0; i<step_1.length; i++){\n",
    "        step_2.push(split(step_1[i], '-'))\n",
    "    }\n",
    "    var obj = {}\n",
    "    obj.Ranged = []\n",
    "    obj.Melee = []\n",
    "    for(let i=0; i<step_2.length; i++){\n",
    "        for(let keys in obj){\n",
    "            if(keys == step_2[i][1]){\n",
    "                obj[keys].push(step_2[i][0])\n",
    "            }\n",
    "        }\n",
    "    }\n",
    "    var result = []\n",
    "    for(let keys in obj){\n",
    "        result.push(obj[keys])\n",
    "    }\n",
    "    return result\n",
    "}"
   ]
  },
  {
   "cell_type": "code",
   "execution_count": 35,
   "metadata": {},
   "outputs": [],
   "source": [
    "function split(str, divider){\n",
    "    var result = []\n",
    "    var temp = ''\n",
    "    for(let i=0; i<str.length; i++){\n",
    "        if(str[i] == divider){\n",
    "            result.push(temp)\n",
    "            temp = ''\n",
    "        }else{\n",
    "            temp += str[i]\n",
    "        }\n",
    "    }\n",
    "    result.push(temp)\n",
    "    return result\n",
    "}"
   ]
  },
  {
   "cell_type": "code",
   "execution_count": 36,
   "metadata": {},
   "outputs": [],
   "source": [
    "var str = 'Razor-Ranged,Invoker-Ranged,Meepo-Melee,Axe-Melee,Sniper-Ranged'"
   ]
  },
  {
   "cell_type": "code",
   "execution_count": 41,
   "metadata": {},
   "outputs": [
    {
     "data": {
      "text/plain": [
       "[ 'Razor-Ranged',\n",
       "  'Invoker-Ranged',\n",
       "  'Meepo-Melee',\n",
       "  'Axe-Melee',\n",
       "  'Sniper-Ranged' ]"
      ]
     },
     "execution_count": 41,
     "metadata": {},
     "output_type": "execute_result"
    }
   ],
   "source": [
    "var step_1 = split(str, ',')\n",
    "step_1"
   ]
  },
  {
   "cell_type": "code",
   "execution_count": 42,
   "metadata": {},
   "outputs": [
    {
     "data": {
      "text/plain": [
       "[ [ 'Razor', 'Ranged' ],\n",
       "  [ 'Invoker', 'Ranged' ],\n",
       "  [ 'Meepo', 'Melee' ],\n",
       "  [ 'Axe', 'Melee' ],\n",
       "  [ 'Sniper', 'Ranged' ] ]"
      ]
     },
     "execution_count": 42,
     "metadata": {},
     "output_type": "execute_result"
    }
   ],
   "source": [
    "var step_2 = []\n",
    "for(let i=0; i<step_1.length; i++){\n",
    "    step_2.push(split(step_1[i], '-'))\n",
    "}\n",
    "step_2"
   ]
  },
  {
   "cell_type": "code",
   "execution_count": 43,
   "metadata": {},
   "outputs": [
    {
     "data": {
      "text/plain": [
       "[]"
      ]
     },
     "execution_count": 43,
     "metadata": {},
     "output_type": "execute_result"
    }
   ],
   "source": [
    "var obj = {}\n",
    "for(let i=0; i<step_2.length; i++){\n",
    "    obj[step_2[i][1]] = []\n",
    "}"
   ]
  },
  {
   "cell_type": "code",
   "execution_count": 44,
   "metadata": {},
   "outputs": [
    {
     "data": {
      "text/plain": [
       "{ Ranged: [], Melee: [] }"
      ]
     },
     "execution_count": 44,
     "metadata": {},
     "output_type": "execute_result"
    }
   ],
   "source": [
    "obj"
   ]
  },
  {
   "cell_type": "code",
   "execution_count": 45,
   "metadata": {},
   "outputs": [
    {
     "data": {
      "text/plain": [
       "{ Ranged: [ 'Razor', 'Invoker', 'Sniper' ],\n",
       "  Melee: [ 'Meepo', 'Axe' ] }"
      ]
     },
     "execution_count": 45,
     "metadata": {},
     "output_type": "execute_result"
    }
   ],
   "source": [
    "for(let i=0; i<step_2.length; i++){\n",
    "    for(let keys in obj){\n",
    "        if(keys == step_2[i][1]){\n",
    "            obj[keys].push(step_2[i][0])\n",
    "        }\n",
    "    }\n",
    "}\n",
    "obj"
   ]
  },
  {
   "cell_type": "code",
   "execution_count": 46,
   "metadata": {},
   "outputs": [
    {
     "data": {
      "text/plain": [
       "[ [ 'Razor', 'Invoker', 'Sniper' ], [ 'Meepo', 'Axe' ] ]"
      ]
     },
     "execution_count": 46,
     "metadata": {},
     "output_type": "execute_result"
    }
   ],
   "source": [
    "var result = []\n",
    "for(let keys in obj){\n",
    "    result.push(obj[keys])\n",
    "}\n",
    "result"
   ]
  },
  {
   "cell_type": "code",
   "execution_count": 52,
   "metadata": {},
   "outputs": [
    {
     "name": "stdout",
     "output_type": "stream",
     "text": [
      "[ [ 'Razor', 'Invoker', 'Sniper' ], [ 'Meepo', 'Axe' ] ]\n",
      "[ [ 'Drow Ranger', 'Chen', 'Dazzle', 'Io' ], [] ]\n",
      "[]\n"
     ]
    }
   ],
   "source": [
    "console.log(meleeRangedGrouping('Razor-Ranged,Invoker-Ranged,Meepo-Melee,Axe-Melee,Sniper-Ranged'));\n",
    "// [ ['Razor', 'Invoker', 'Sniper'], ['Meepo', 'Axe'] ]\n",
    "\n",
    "console.log(meleeRangedGrouping('Drow Ranger-Ranged,Chen-Ranged,Dazzle-Ranged,Io-Ranged'));\n",
    "// [ ['Drow Ranger', 'Chen', 'Dazzle', 'Io'], [] ]\n",
    "\n",
    "console.log(meleeRangedGrouping('')); // []"
   ]
  },
  {
   "cell_type": "markdown",
   "metadata": {},
   "source": [
    "________"
   ]
  },
  {
   "cell_type": "markdown",
   "metadata": {},
   "source": [
    "# Cari Pelaku (Regex)"
   ]
  },
  {
   "cell_type": "code",
   "execution_count": 63,
   "metadata": {},
   "outputs": [],
   "source": [
    "function cariPelaku(str) {\n",
    "  return str.match(/abc/g).length\n",
    "}"
   ]
  },
  {
   "cell_type": "code",
   "execution_count": 58,
   "metadata": {},
   "outputs": [],
   "source": [
    "var str = 'mabcvabc'"
   ]
  },
  {
   "cell_type": "code",
   "execution_count": 59,
   "metadata": {},
   "outputs": [
    {
     "data": {
      "text/plain": [
       "'mabcvabc'"
      ]
     },
     "execution_count": 59,
     "metadata": {},
     "output_type": "execute_result"
    }
   ],
   "source": [
    "str"
   ]
  },
  {
   "cell_type": "code",
   "execution_count": 61,
   "metadata": {},
   "outputs": [
    {
     "data": {
      "text/plain": [
       "2"
      ]
     },
     "execution_count": 61,
     "metadata": {},
     "output_type": "execute_result"
    }
   ],
   "source": [
    "str.match(/abc/g).length"
   ]
  },
  {
   "cell_type": "code",
   "execution_count": 64,
   "metadata": {},
   "outputs": [
    {
     "name": "stdout",
     "output_type": "stream",
     "text": [
      "2\n",
      "1\n",
      "1\n",
      "3\n",
      "2\n"
     ]
    }
   ],
   "source": [
    "console.log(cariPelaku('mabcvabc')); // 2\n",
    "console.log(cariPelaku('abcdabdc')); // 1\n",
    "console.log(cariPelaku('bcabcac')); // 1\n",
    "console.log(cariPelaku('abcabcabc')); // 3\n",
    "console.log(cariPelaku('babcbacabc')); // 2"
   ]
  },
  {
   "cell_type": "markdown",
   "metadata": {},
   "source": [
    "________"
   ]
  },
  {
   "cell_type": "markdown",
   "metadata": {},
   "source": [
    "# Hapus Simbol (Regex)"
   ]
  },
  {
   "cell_type": "code",
   "execution_count": 74,
   "metadata": {},
   "outputs": [],
   "source": [
    "function hapusSimbol(str) {\n",
    "    var arr = str.match(/[a-zA-Z0-9]+/g)\n",
    "    var result = ''\n",
    "    for(let elements of arr){\n",
    "        result += elements\n",
    "    }\n",
    "    return result\n",
    "}"
   ]
  },
  {
   "cell_type": "code",
   "execution_count": 66,
   "metadata": {},
   "outputs": [],
   "source": [
    "var str = 'devel0p3r s3j@@ati'"
   ]
  },
  {
   "cell_type": "code",
   "execution_count": 73,
   "metadata": {},
   "outputs": [
    {
     "data": {
      "text/plain": [
       "[ 'devel0p3r', 's3j', 'ati' ]"
      ]
     },
     "execution_count": 73,
     "metadata": {},
     "output_type": "execute_result"
    }
   ],
   "source": [
    "var arr = str.match(/[a-zA-Z0-9]+/g)"
   ]
  },
  {
   "cell_type": "code",
   "execution_count": 75,
   "metadata": {},
   "outputs": [
    {
     "name": "stdout",
     "output_type": "stream",
     "text": [
      "test4aa\n",
      "devel0p3rs3jati\n",
      "makan\n",
      "coding\n",
      "1352100\n"
     ]
    }
   ],
   "source": [
    "// TEST CASES\n",
    "console.log(hapusSimbol('test%$4aa')); // test4aa\n",
    "console.log(hapusSimbol('devel0p3r s3j@@ati')); // devel0p3rs3jati\n",
    "console.log(hapusSimbol('ma@#k!an~')); // makan\n",
    "console.log(hapusSimbol('coding')); // coding\n",
    "console.log(hapusSimbol('1+3-5*2=100')); // 1352100"
   ]
  },
  {
   "cell_type": "code",
   "execution_count": 8,
   "metadata": {},
   "outputs": [],
   "source": [
    "var num = 15\n",
    "var hexString = num.toString(16);"
   ]
  },
  {
   "cell_type": "code",
   "execution_count": 9,
   "metadata": {},
   "outputs": [
    {
     "data": {
      "text/plain": [
       "'f'"
      ]
     },
     "execution_count": 9,
     "metadata": {},
     "output_type": "execute_result"
    }
   ],
   "source": [
    "hexString"
   ]
  },
  {
   "cell_type": "code",
   "execution_count": null,
   "metadata": {},
   "outputs": [],
   "source": []
  }
 ],
 "metadata": {
  "kernelspec": {
   "display_name": "Javascript (Node.js)",
   "language": "javascript",
   "name": "javascript"
  },
  "language_info": {
   "file_extension": ".js",
   "mimetype": "application/javascript",
   "name": "javascript",
   "version": "8.10.0"
  }
 },
 "nbformat": 4,
 "nbformat_minor": 2
}
